{
 "cells": [
  {
   "cell_type": "code",
   "execution_count": 1,
   "id": "4141fa3e-759f-4caa-944b-ff88fa205e88",
   "metadata": {},
   "outputs": [],
   "source": [
    "import pandas as pd\n",
    "import numpy as np\n",
    "from sklearn.metrics.pairwise import cosine_similarity\n",
    "from sklearn.preprocessing import StandardScaler\n",
    "from sklearn.preprocessing import MinMaxScaler\n",
    "from sklearn.preprocessing import OneHotEncoder"
   ]
  },
  {
   "cell_type": "code",
   "execution_count": 3,
   "id": "22571efa-c805-4518-9dd8-fdcb6d6d1122",
   "metadata": {},
   "outputs": [],
   "source": [
    "restaurants=pd.read_csv('egyptian_restaurants.csv')\n",
    "ratings=pd.read_csv('Ratings.csv')"
   ]
  },
  {
   "cell_type": "code",
   "execution_count": 5,
   "id": "c34c9bbc-358a-48c8-be79-813ef50a0bfe",
   "metadata": {},
   "outputs": [
    {
     "data": {
      "text/html": [
       "<div>\n",
       "<style scoped>\n",
       "    .dataframe tbody tr th:only-of-type {\n",
       "        vertical-align: middle;\n",
       "    }\n",
       "\n",
       "    .dataframe tbody tr th {\n",
       "        vertical-align: top;\n",
       "    }\n",
       "\n",
       "    .dataframe thead th {\n",
       "        text-align: right;\n",
       "    }\n",
       "</style>\n",
       "<table border=\"1\" class=\"dataframe\">\n",
       "  <thead>\n",
       "    <tr style=\"text-align: right;\">\n",
       "      <th></th>\n",
       "      <th>Restaurant ID</th>\n",
       "      <th>Restaurant Name</th>\n",
       "      <th>Category</th>\n",
       "      <th>City</th>\n",
       "      <th>Area</th>\n",
       "      <th>Longitude</th>\n",
       "      <th>Latitude</th>\n",
       "    </tr>\n",
       "  </thead>\n",
       "  <tbody>\n",
       "    <tr>\n",
       "      <th>0</th>\n",
       "      <td>1</td>\n",
       "      <td>30 North</td>\n",
       "      <td>Cafe</td>\n",
       "      <td>Alexandria</td>\n",
       "      <td>Gleem</td>\n",
       "      <td>29.901193</td>\n",
       "      <td>31.186937</td>\n",
       "    </tr>\n",
       "    <tr>\n",
       "      <th>1</th>\n",
       "      <td>2</td>\n",
       "      <td>Indira</td>\n",
       "      <td>Asian Cuisine</td>\n",
       "      <td>Alexandria</td>\n",
       "      <td>Montaza</td>\n",
       "      <td>29.920624</td>\n",
       "      <td>31.206004</td>\n",
       "    </tr>\n",
       "    <tr>\n",
       "      <th>2</th>\n",
       "      <td>3</td>\n",
       "      <td>Seoudi</td>\n",
       "      <td>Casual Dining</td>\n",
       "      <td>Cairo</td>\n",
       "      <td>Nasr City</td>\n",
       "      <td>31.245766</td>\n",
       "      <td>30.041615</td>\n",
       "    </tr>\n",
       "    <tr>\n",
       "      <th>3</th>\n",
       "      <td>4</td>\n",
       "      <td>Paul</td>\n",
       "      <td>Bakery</td>\n",
       "      <td>Alexandria</td>\n",
       "      <td>Sidi Gaber</td>\n",
       "      <td>29.906400</td>\n",
       "      <td>31.189993</td>\n",
       "    </tr>\n",
       "    <tr>\n",
       "      <th>4</th>\n",
       "      <td>5</td>\n",
       "      <td>Wel3a</td>\n",
       "      <td>Grill</td>\n",
       "      <td>Sharm El Sheikh</td>\n",
       "      <td>Sharks Bay</td>\n",
       "      <td>34.325296</td>\n",
       "      <td>27.906238</td>\n",
       "    </tr>\n",
       "  </tbody>\n",
       "</table>\n",
       "</div>"
      ],
      "text/plain": [
       "   Restaurant ID Restaurant Name       Category             City        Area  \\\n",
       "0              1        30 North           Cafe       Alexandria       Gleem   \n",
       "1              2          Indira  Asian Cuisine       Alexandria     Montaza   \n",
       "2              3          Seoudi  Casual Dining            Cairo   Nasr City   \n",
       "3              4            Paul         Bakery       Alexandria  Sidi Gaber   \n",
       "4              5           Wel3a          Grill  Sharm El Sheikh  Sharks Bay   \n",
       "\n",
       "   Longitude   Latitude  \n",
       "0  29.901193  31.186937  \n",
       "1  29.920624  31.206004  \n",
       "2  31.245766  30.041615  \n",
       "3  29.906400  31.189993  \n",
       "4  34.325296  27.906238  "
      ]
     },
     "execution_count": 5,
     "metadata": {},
     "output_type": "execute_result"
    }
   ],
   "source": [
    "restaurants.head()"
   ]
  },
  {
   "cell_type": "code",
   "execution_count": 7,
   "id": "2d567d99-acc6-4ae5-b925-306ec70fdab1",
   "metadata": {},
   "outputs": [
    {
     "data": {
      "text/html": [
       "<div>\n",
       "<style scoped>\n",
       "    .dataframe tbody tr th:only-of-type {\n",
       "        vertical-align: middle;\n",
       "    }\n",
       "\n",
       "    .dataframe tbody tr th {\n",
       "        vertical-align: top;\n",
       "    }\n",
       "\n",
       "    .dataframe thead th {\n",
       "        text-align: right;\n",
       "    }\n",
       "</style>\n",
       "<table border=\"1\" class=\"dataframe\">\n",
       "  <thead>\n",
       "    <tr style=\"text-align: right;\">\n",
       "      <th></th>\n",
       "      <th>User ID</th>\n",
       "      <th>Restaurant ID</th>\n",
       "      <th>Rating</th>\n",
       "    </tr>\n",
       "  </thead>\n",
       "  <tbody>\n",
       "    <tr>\n",
       "      <th>0</th>\n",
       "      <td>3079</td>\n",
       "      <td>831</td>\n",
       "      <td>4</td>\n",
       "    </tr>\n",
       "    <tr>\n",
       "      <th>1</th>\n",
       "      <td>73</td>\n",
       "      <td>188</td>\n",
       "      <td>2</td>\n",
       "    </tr>\n",
       "    <tr>\n",
       "      <th>2</th>\n",
       "      <td>8583</td>\n",
       "      <td>514</td>\n",
       "      <td>3</td>\n",
       "    </tr>\n",
       "    <tr>\n",
       "      <th>3</th>\n",
       "      <td>6466</td>\n",
       "      <td>676</td>\n",
       "      <td>3</td>\n",
       "    </tr>\n",
       "    <tr>\n",
       "      <th>4</th>\n",
       "      <td>7292</td>\n",
       "      <td>603</td>\n",
       "      <td>2</td>\n",
       "    </tr>\n",
       "  </tbody>\n",
       "</table>\n",
       "</div>"
      ],
      "text/plain": [
       "   User ID  Restaurant ID  Rating\n",
       "0     3079            831       4\n",
       "1       73            188       2\n",
       "2     8583            514       3\n",
       "3     6466            676       3\n",
       "4     7292            603       2"
      ]
     },
     "execution_count": 7,
     "metadata": {},
     "output_type": "execute_result"
    }
   ],
   "source": [
    "ratings.head()"
   ]
  },
  {
   "cell_type": "code",
   "execution_count": 9,
   "id": "83a8762b-a243-435b-adc9-8e2f6a52e108",
   "metadata": {},
   "outputs": [
    {
     "data": {
      "text/plain": [
       "(500000, 3)"
      ]
     },
     "execution_count": 9,
     "metadata": {},
     "output_type": "execute_result"
    }
   ],
   "source": [
    "ratings.shape"
   ]
  },
  {
   "cell_type": "code",
   "execution_count": 11,
   "id": "fa6ffeb8-6345-4015-9780-5934658e9e80",
   "metadata": {},
   "outputs": [
    {
     "data": {
      "text/plain": [
       "(1000, 7)"
      ]
     },
     "execution_count": 11,
     "metadata": {},
     "output_type": "execute_result"
    }
   ],
   "source": [
    "restaurants.shape"
   ]
  },
  {
   "cell_type": "code",
   "execution_count": 13,
   "id": "094fda6e-a285-4668-983c-303220ea101d",
   "metadata": {},
   "outputs": [
    {
     "data": {
      "text/plain": [
       "Restaurant ID      0\n",
       "Restaurant Name    0\n",
       "Category           0\n",
       "City               0\n",
       "Area               0\n",
       "Longitude          0\n",
       "Latitude           0\n",
       "dtype: int64"
      ]
     },
     "execution_count": 13,
     "metadata": {},
     "output_type": "execute_result"
    }
   ],
   "source": [
    "restaurants.isna().sum()"
   ]
  },
  {
   "cell_type": "code",
   "execution_count": 15,
   "id": "398d13ed-ec1f-4534-b3fa-138c9670182d",
   "metadata": {},
   "outputs": [
    {
     "data": {
      "text/plain": [
       "User ID          0\n",
       "Restaurant ID    0\n",
       "Rating           0\n",
       "dtype: int64"
      ]
     },
     "execution_count": 15,
     "metadata": {},
     "output_type": "execute_result"
    }
   ],
   "source": [
    "ratings.isna().sum()"
   ]
  },
  {
   "cell_type": "code",
   "execution_count": 17,
   "id": "81005fdf-db49-435d-9333-bd1de543c5f6",
   "metadata": {},
   "outputs": [],
   "source": [
    "ratings=ratings.drop_duplicates(subset=[\"User ID\",\"Restaurant ID\"],keep=\"last\")"
   ]
  },
  {
   "cell_type": "code",
   "execution_count": 19,
   "id": "74f500d1-49fd-4af6-8a49-eecbf63a2707",
   "metadata": {},
   "outputs": [
    {
     "data": {
      "text/plain": [
       "(489672, 3)"
      ]
     },
     "execution_count": 19,
     "metadata": {},
     "output_type": "execute_result"
    }
   ],
   "source": [
    "ratings.shape"
   ]
  },
  {
   "cell_type": "code",
   "execution_count": 21,
   "id": "d2327a01-5d34-44bd-b746-c388671ca726",
   "metadata": {},
   "outputs": [
    {
     "data": {
      "text/html": [
       "<div>\n",
       "<style scoped>\n",
       "    .dataframe tbody tr th:only-of-type {\n",
       "        vertical-align: middle;\n",
       "    }\n",
       "\n",
       "    .dataframe tbody tr th {\n",
       "        vertical-align: top;\n",
       "    }\n",
       "\n",
       "    .dataframe thead th {\n",
       "        text-align: right;\n",
       "    }\n",
       "</style>\n",
       "<table border=\"1\" class=\"dataframe\">\n",
       "  <thead>\n",
       "    <tr style=\"text-align: right;\">\n",
       "      <th></th>\n",
       "      <th>User ID</th>\n",
       "      <th>Restaurant ID</th>\n",
       "      <th>Rating</th>\n",
       "    </tr>\n",
       "  </thead>\n",
       "  <tbody>\n",
       "    <tr>\n",
       "      <th>0</th>\n",
       "      <td>3079</td>\n",
       "      <td>831</td>\n",
       "      <td>4</td>\n",
       "    </tr>\n",
       "    <tr>\n",
       "      <th>1</th>\n",
       "      <td>73</td>\n",
       "      <td>188</td>\n",
       "      <td>2</td>\n",
       "    </tr>\n",
       "    <tr>\n",
       "      <th>2</th>\n",
       "      <td>8583</td>\n",
       "      <td>514</td>\n",
       "      <td>3</td>\n",
       "    </tr>\n",
       "    <tr>\n",
       "      <th>3</th>\n",
       "      <td>6466</td>\n",
       "      <td>676</td>\n",
       "      <td>3</td>\n",
       "    </tr>\n",
       "    <tr>\n",
       "      <th>4</th>\n",
       "      <td>7292</td>\n",
       "      <td>603</td>\n",
       "      <td>2</td>\n",
       "    </tr>\n",
       "  </tbody>\n",
       "</table>\n",
       "</div>"
      ],
      "text/plain": [
       "   User ID  Restaurant ID  Rating\n",
       "0     3079            831       4\n",
       "1       73            188       2\n",
       "2     8583            514       3\n",
       "3     6466            676       3\n",
       "4     7292            603       2"
      ]
     },
     "execution_count": 21,
     "metadata": {},
     "output_type": "execute_result"
    }
   ],
   "source": [
    "ratings.head()"
   ]
  },
  {
   "cell_type": "code",
   "execution_count": 23,
   "id": "77466e4a-4e4b-49ab-b8af-893b796abd38",
   "metadata": {},
   "outputs": [
    {
     "data": {
      "text/plain": [
       "User ID          0\n",
       "Restaurant ID    0\n",
       "Rating           0\n",
       "dtype: int64"
      ]
     },
     "execution_count": 23,
     "metadata": {},
     "output_type": "execute_result"
    }
   ],
   "source": [
    "ratings.isna().sum()"
   ]
  },
  {
   "cell_type": "code",
   "execution_count": 25,
   "id": "12ebc8e2-0083-4e52-b77d-a0302b90c6da",
   "metadata": {},
   "outputs": [],
   "source": [
    "average_ratings=ratings.groupby('Restaurant ID')['Rating'].mean().reset_index()"
   ]
  },
  {
   "cell_type": "code",
   "execution_count": 27,
   "id": "0d697381-dd4c-4b7a-bcbd-a8989c0cdf5e",
   "metadata": {},
   "outputs": [
    {
     "data": {
      "text/html": [
       "<div>\n",
       "<style scoped>\n",
       "    .dataframe tbody tr th:only-of-type {\n",
       "        vertical-align: middle;\n",
       "    }\n",
       "\n",
       "    .dataframe tbody tr th {\n",
       "        vertical-align: top;\n",
       "    }\n",
       "\n",
       "    .dataframe thead th {\n",
       "        text-align: right;\n",
       "    }\n",
       "</style>\n",
       "<table border=\"1\" class=\"dataframe\">\n",
       "  <thead>\n",
       "    <tr style=\"text-align: right;\">\n",
       "      <th></th>\n",
       "      <th>Restaurant ID</th>\n",
       "      <th>Avg_Rating</th>\n",
       "    </tr>\n",
       "  </thead>\n",
       "  <tbody>\n",
       "    <tr>\n",
       "      <th>0</th>\n",
       "      <td>1</td>\n",
       "      <td>3.051040</td>\n",
       "    </tr>\n",
       "    <tr>\n",
       "      <th>1</th>\n",
       "      <td>2</td>\n",
       "      <td>3.043307</td>\n",
       "    </tr>\n",
       "    <tr>\n",
       "      <th>2</th>\n",
       "      <td>3</td>\n",
       "      <td>3.028747</td>\n",
       "    </tr>\n",
       "    <tr>\n",
       "      <th>3</th>\n",
       "      <td>4</td>\n",
       "      <td>3.015474</td>\n",
       "    </tr>\n",
       "    <tr>\n",
       "      <th>4</th>\n",
       "      <td>5</td>\n",
       "      <td>2.913580</td>\n",
       "    </tr>\n",
       "    <tr>\n",
       "      <th>...</th>\n",
       "      <td>...</td>\n",
       "      <td>...</td>\n",
       "    </tr>\n",
       "    <tr>\n",
       "      <th>995</th>\n",
       "      <td>996</td>\n",
       "      <td>2.975983</td>\n",
       "    </tr>\n",
       "    <tr>\n",
       "      <th>996</th>\n",
       "      <td>997</td>\n",
       "      <td>3.073852</td>\n",
       "    </tr>\n",
       "    <tr>\n",
       "      <th>997</th>\n",
       "      <td>998</td>\n",
       "      <td>2.950884</td>\n",
       "    </tr>\n",
       "    <tr>\n",
       "      <th>998</th>\n",
       "      <td>999</td>\n",
       "      <td>2.915547</td>\n",
       "    </tr>\n",
       "    <tr>\n",
       "      <th>999</th>\n",
       "      <td>1000</td>\n",
       "      <td>3.073123</td>\n",
       "    </tr>\n",
       "  </tbody>\n",
       "</table>\n",
       "<p>1000 rows × 2 columns</p>\n",
       "</div>"
      ],
      "text/plain": [
       "     Restaurant ID  Avg_Rating\n",
       "0                1    3.051040\n",
       "1                2    3.043307\n",
       "2                3    3.028747\n",
       "3                4    3.015474\n",
       "4                5    2.913580\n",
       "..             ...         ...\n",
       "995            996    2.975983\n",
       "996            997    3.073852\n",
       "997            998    2.950884\n",
       "998            999    2.915547\n",
       "999           1000    3.073123\n",
       "\n",
       "[1000 rows x 2 columns]"
      ]
     },
     "execution_count": 27,
     "metadata": {},
     "output_type": "execute_result"
    }
   ],
   "source": [
    "average_ratings.rename(columns={\"Rating\": \"Avg_Rating\"}, inplace=True)\n",
    "average_ratings"
   ]
  },
  {
   "cell_type": "code",
   "execution_count": 29,
   "id": "54d714e4-ac39-47ce-94a2-1a5a414d8fb4",
   "metadata": {},
   "outputs": [],
   "source": [
    "restaurants=restaurants.merge(average_ratings,on='Restaurant ID',how='left')"
   ]
  },
  {
   "cell_type": "code",
   "execution_count": 31,
   "id": "7072239f-d110-45af-be59-50c85cf62ac8",
   "metadata": {
    "scrolled": true
   },
   "outputs": [
    {
     "data": {
      "text/html": [
       "<div>\n",
       "<style scoped>\n",
       "    .dataframe tbody tr th:only-of-type {\n",
       "        vertical-align: middle;\n",
       "    }\n",
       "\n",
       "    .dataframe tbody tr th {\n",
       "        vertical-align: top;\n",
       "    }\n",
       "\n",
       "    .dataframe thead th {\n",
       "        text-align: right;\n",
       "    }\n",
       "</style>\n",
       "<table border=\"1\" class=\"dataframe\">\n",
       "  <thead>\n",
       "    <tr style=\"text-align: right;\">\n",
       "      <th></th>\n",
       "      <th>Restaurant ID</th>\n",
       "      <th>Restaurant Name</th>\n",
       "      <th>Category</th>\n",
       "      <th>City</th>\n",
       "      <th>Area</th>\n",
       "      <th>Longitude</th>\n",
       "      <th>Latitude</th>\n",
       "      <th>Avg_Rating</th>\n",
       "    </tr>\n",
       "  </thead>\n",
       "  <tbody>\n",
       "    <tr>\n",
       "      <th>0</th>\n",
       "      <td>1</td>\n",
       "      <td>30 North</td>\n",
       "      <td>Cafe</td>\n",
       "      <td>Alexandria</td>\n",
       "      <td>Gleem</td>\n",
       "      <td>29.901193</td>\n",
       "      <td>31.186937</td>\n",
       "      <td>3.051040</td>\n",
       "    </tr>\n",
       "    <tr>\n",
       "      <th>1</th>\n",
       "      <td>2</td>\n",
       "      <td>Indira</td>\n",
       "      <td>Asian Cuisine</td>\n",
       "      <td>Alexandria</td>\n",
       "      <td>Montaza</td>\n",
       "      <td>29.920624</td>\n",
       "      <td>31.206004</td>\n",
       "      <td>3.043307</td>\n",
       "    </tr>\n",
       "    <tr>\n",
       "      <th>2</th>\n",
       "      <td>3</td>\n",
       "      <td>Seoudi</td>\n",
       "      <td>Casual Dining</td>\n",
       "      <td>Cairo</td>\n",
       "      <td>Nasr City</td>\n",
       "      <td>31.245766</td>\n",
       "      <td>30.041615</td>\n",
       "      <td>3.028747</td>\n",
       "    </tr>\n",
       "    <tr>\n",
       "      <th>3</th>\n",
       "      <td>4</td>\n",
       "      <td>Paul</td>\n",
       "      <td>Bakery</td>\n",
       "      <td>Alexandria</td>\n",
       "      <td>Sidi Gaber</td>\n",
       "      <td>29.906400</td>\n",
       "      <td>31.189993</td>\n",
       "      <td>3.015474</td>\n",
       "    </tr>\n",
       "    <tr>\n",
       "      <th>4</th>\n",
       "      <td>5</td>\n",
       "      <td>Wel3a</td>\n",
       "      <td>Grill</td>\n",
       "      <td>Sharm El Sheikh</td>\n",
       "      <td>Sharks Bay</td>\n",
       "      <td>34.325296</td>\n",
       "      <td>27.906238</td>\n",
       "      <td>2.913580</td>\n",
       "    </tr>\n",
       "  </tbody>\n",
       "</table>\n",
       "</div>"
      ],
      "text/plain": [
       "   Restaurant ID Restaurant Name       Category             City        Area  \\\n",
       "0              1        30 North           Cafe       Alexandria       Gleem   \n",
       "1              2          Indira  Asian Cuisine       Alexandria     Montaza   \n",
       "2              3          Seoudi  Casual Dining            Cairo   Nasr City   \n",
       "3              4            Paul         Bakery       Alexandria  Sidi Gaber   \n",
       "4              5           Wel3a          Grill  Sharm El Sheikh  Sharks Bay   \n",
       "\n",
       "   Longitude   Latitude  Avg_Rating  \n",
       "0  29.901193  31.186937    3.051040  \n",
       "1  29.920624  31.206004    3.043307  \n",
       "2  31.245766  30.041615    3.028747  \n",
       "3  29.906400  31.189993    3.015474  \n",
       "4  34.325296  27.906238    2.913580  "
      ]
     },
     "execution_count": 31,
     "metadata": {},
     "output_type": "execute_result"
    }
   ],
   "source": [
    "restaurants.head()"
   ]
  },
  {
   "cell_type": "code",
   "execution_count": 33,
   "id": "89087ecb-2866-40eb-976b-c434646f273b",
   "metadata": {},
   "outputs": [
    {
     "name": "stdout",
     "output_type": "stream",
     "text": [
      "0\n"
     ]
    }
   ],
   "source": [
    "print(restaurants['Avg_Rating'].isna().sum())"
   ]
  },
  {
   "cell_type": "code",
   "execution_count": 35,
   "id": "50447521-53da-4362-be3f-53f03567ae7e",
   "metadata": {},
   "outputs": [],
   "source": [
    "combined = restaurants[[\"Category\", \"City\", \"Area\"]]\n",
    "encoder = OneHotEncoder(sparse_output=False)\n",
    "encoded_array = encoder.fit_transform(combined)\n",
    "encoded_features = pd.DataFrame(encoded_array, columns=encoder.get_feature_names_out(combined.columns))\n",
    "scaler = MinMaxScaler()\n",
    "encoded_features_scaled = scaler.fit_transform(encoded_features)\n",
    "similarity_matrix = cosine_similarity(encoded_features_scaled)\n",
    "\n",
    "# similarity_df = pd.DataFrame(similarity_matrix, index=restaurants[\"Restaurant Name\"], columns=restaurants[\"Restaurant Name\"])\n",
    "# similarity_df"
   ]
  },
  {
   "cell_type": "code",
   "execution_count": 143,
   "id": "a0dde9e3-f087-427a-9ddf-1b97bca76602",
   "metadata": {},
   "outputs": [],
   "source": [
    "def content_recommender(restaurant_id, top_n=5):\n",
    "    if restaurant_id not in restaurants[\"Restaurant ID\"].values:\n",
    "        print(f\"Restaurant ID '{restaurant_id}' not found in dataset!\")\n",
    "        return None\n",
    "    \n",
    "    idx = restaurants.index[restaurants[\"Restaurant ID\"] == restaurant_id][0] \n",
    "    restaurant_name = restaurants.iloc[idx][\"Restaurant Name\"]  \n",
    "    \n",
    "    sim_scores = list(enumerate(similarity_matrix[idx].tolist()))\n",
    "    # print(sim_scores[:5])\n",
    "    \n",
    "    sim_scores = sorted(\n",
    "        sim_scores, \n",
    "        key=lambda x: (x[1], restaurants.iloc[x[0]][\"Avg_Rating\"]), \n",
    "        reverse=True\n",
    "    )\n",
    "\n",
    "    sim_scores = sim_scores[:top_n+1]\n",
    "    recommended_restaurants = restaurants.iloc[[i[0] for i in sim_scores]][[\"Restaurant ID\", \"Restaurant Name\", \"Avg_Rating\"]]\n",
    "    recommended_restaurants = recommended_restaurants[recommended_restaurants[\"Restaurant Name\"] != restaurant_name]\n",
    "\n",
    "    recommended_restaurants = recommended_restaurants.drop_duplicates(subset=[\"Restaurant Name\"], keep=\"first\")\n",
    "    recommended_restaurants = recommended_restaurants.reset_index(drop=True)\n",
    "    return recommended_restaurants\n"
   ]
  },
  {
   "cell_type": "code",
   "execution_count": 151,
   "id": "f85a6196-da86-4a6f-af0f-b55b12a9b6c1",
   "metadata": {},
   "outputs": [
    {
     "name": "stdout",
     "output_type": "stream",
     "text": [
      "   Restaurant ID Restaurant Name  Avg_Rating\n",
      "0            630        30 North    2.983471\n",
      "1            115         Beano's    2.949474\n"
     ]
    }
   ],
   "source": [
    "restaurant_id = 27\n",
    "recommendations = content_recommender(restaurant_id)\n",
    "if recommendations is not None:\n",
    "    print(recommendations)\n",
    "else:\n",
    "    print(\"No recommendations found!\")\n",
    "\n"
   ]
  },
  {
   "cell_type": "code",
   "execution_count": 157,
   "id": "cf3e75c6-1d8d-49fe-a6d3-e8d9b47a70bf",
   "metadata": {},
   "outputs": [],
   "source": [
    "def evaluate_recommendations(restaurant_id, top_n=5):\n",
    "    recommended_restaurants = content_recommender(restaurant_id, top_n)\n",
    "    \n",
    "    if recommended_restaurants is None:\n",
    "        return None\n",
    "\n",
    "    unique_recommendations = recommended_restaurants[\"Restaurant Name\"].nunique()\n",
    "   \n",
    "    idx = restaurants.index[restaurants[\"Restaurant ID\"] == restaurant_id][0]\n",
    "    input_restaurant_name = restaurants.iloc[idx][\"Restaurant Name\"]\n",
    "\n",
    "    sim_scores = list(enumerate(similarity_matrix[idx].tolist()))\n",
    "    sim_scores = sorted(sim_scores, key=lambda x: (x[1], restaurants.iloc[x[0]][\"Avg_Rating\"]), reverse=True)\n",
    "    \n",
    "    unique_sim_scores = []\n",
    "    seen_names = set()\n",
    "    for score in sim_scores:\n",
    "        r_name = restaurants.iloc[score[0]][\"Restaurant Name\"]\n",
    "        if r_name not in seen_names and r_name != input_restaurant_name:\n",
    "            unique_sim_scores.append(score)\n",
    "            seen_names.add(r_name)\n",
    "    \n",
    "    top_recs = unique_sim_scores[:top_n]\n",
    "\n",
    "    rec_set = set((restaurants.iloc[idx_val][\"Restaurant ID\"], restaurants.iloc[idx_val][\"Restaurant Name\"]) for idx_val, _ in top_recs)\n",
    "    rec_from_df = set((row[\"Restaurant ID\"], row[\"Restaurant Name\"]) for _, row in recommended_restaurants.iterrows())\n",
    "    \n",
    "    common_recommendations = rec_set.intersection(rec_from_df)\n",
    "\n",
    "    accuracy = (len(common_recommendations) / top_n) * 100\n",
    "    diversity = (unique_recommendations / top_n) * 100\n",
    "\n",
    "    return unique_recommendations, common_recommendations, accuracy, diversity, top_recs\n"
   ]
  },
  {
   "cell_type": "code",
   "execution_count": 159,
   "id": "d2ee9fdc-0ec1-4da5-b64c-27859a9eeb18",
   "metadata": {},
   "outputs": [
    {
     "name": "stdout",
     "output_type": "stream",
     "text": [
      "\n",
      " Unique recommendations: 2\n",
      "\n",
      " Top recommendations based on similarity (ID, Name, Similarity):\n",
      "    - Restaurant ID: 630, Name: 30 North, Similarity: 1.0000\n",
      "    - Restaurant ID: 115, Name: Beano's, Similarity: 1.0000\n",
      "    - Restaurant ID: 661, Name: Peking, Similarity: 0.6667\n",
      "    - Restaurant ID: 513, Name: Buffalo Burger, Similarity: 0.6667\n",
      "    - Restaurant ID: 523, Name: Sizzler, Similarity: 0.6667\n",
      "\n",
      " Common recommendations from most similar to least:\n",
      "Restaurant ID: 630, Name: 30 North\n",
      "Restaurant ID: 115, Name: Beano's\n",
      "\n",
      " Accuracy of the recommendations: 40.00%\n",
      "Diversity of the recommendations: 40.00%\n"
     ]
    }
   ],
   "source": [
    "restaurant_id = 27\n",
    "result = evaluate_recommendations(restaurant_id)\n",
    "\n",
    "if result is not None:\n",
    "    unique_recommendations, common_recommendations, accuracy, diversity, top_recs = result\n",
    "\n",
    "    print(f\"\\n Unique recommendations: {unique_recommendations}\")\n",
    "\n",
    "    print(\"\\n Top recommendations based on similarity (ID, Name, Similarity):\")\n",
    "    for idx_val, score in top_recs:\n",
    "        rid = restaurants.iloc[idx_val][\"Restaurant ID\"]\n",
    "        name = restaurants.iloc[idx_val][\"Restaurant Name\"]\n",
    "        print(f\"    - Restaurant ID: {rid}, Name: {name}, Similarity: {score:.4f}\")\n",
    "\n",
    "    print(\"\\n Common recommendations from most similar to least:\")\n",
    "    for idx_val, _ in top_recs:\n",
    "        rid = restaurants.iloc[idx_val][\"Restaurant ID\"]\n",
    "        name = restaurants.iloc[idx_val][\"Restaurant Name\"]\n",
    "        if (rid, name) in common_recommendations:\n",
    "            print(f\"Restaurant ID: {rid}, Name: {name}\")\n",
    "\n",
    "\n",
    "    print(f\"\\n Accuracy of the recommendations: {accuracy:.2f}%\")\n",
    "    print(f\"Diversity of the recommendations: {diversity:.2f}%\")\n",
    "\n",
    "else:\n",
    "    print(\"No recommendations available for evaluation.\")\n"
   ]
  },
  {
   "cell_type": "code",
   "execution_count": null,
   "id": "443f9851-7502-4a37-b046-27825ea00f81",
   "metadata": {},
   "outputs": [],
   "source": []
  },
  {
   "cell_type": "code",
   "execution_count": null,
   "id": "68ab685b-4cf4-4fff-a4d9-04ef3c86c4e2",
   "metadata": {},
   "outputs": [],
   "source": []
  }
 ],
 "metadata": {
  "kernelspec": {
   "display_name": "Python 3 (ipykernel)",
   "language": "python",
   "name": "python3"
  },
  "language_info": {
   "codemirror_mode": {
    "name": "ipython",
    "version": 3
   },
   "file_extension": ".py",
   "mimetype": "text/x-python",
   "name": "python",
   "nbconvert_exporter": "python",
   "pygments_lexer": "ipython3",
   "version": "3.11.10"
  }
 },
 "nbformat": 4,
 "nbformat_minor": 5
}
